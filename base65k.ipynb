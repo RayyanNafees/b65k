{
 "cells": [
  {
   "cell_type": "code",
   "execution_count": null,
   "id": "b02af30e",
   "metadata": {},
   "outputs": [],
   "source": [
    "def baseAnyTo10(intstr: str, chars: str) -> int:\n",
    "        \n",
    "    if type(chars) == int:\n",
    "        from string import printable\n",
    "        chars = printable[:chars]\n",
    "        \n",
    "    assert all([i in chars for i in intstr]), \\\n",
    "            'The supplied number has characters not in base %i'%base\n",
    "    \n",
    "    base = len(chars)\n",
    "    ind = lambda char: chars.find(char)\n",
    "    dec_encoding = (ind(i)*(base**n) for n,i in enumerate(intstr[::-1]))\n",
    "    return sum(dec_encoding)\n",
    "    "
   ]
  },
  {
   "cell_type": "code",
   "execution_count": 2,
   "id": "3ede5620",
   "metadata": {},
   "outputs": [
    {
     "output_type": "execute_result",
     "data": {
      "text/plain": [
       "True"
      ]
     },
     "metadata": {},
     "execution_count": 2
    }
   ],
   "source": [
    "baseAnyTo10('efefef', 16) == int('efefef', 16)"
   ]
  },
  {
   "cell_type": "code",
   "execution_count": 3,
   "id": "dc384b52",
   "metadata": {},
   "outputs": [],
   "source": [
    "def timeit(func, args):\n",
    "    import time\n",
    "    start = time.time()\n",
    "    val= func(*args)\n",
    "    stop = time.time()\n",
    "    \n",
    "    print(val)\n",
    "    print('Done in', stop-start, 'seconds')"
   ]
  },
  {
   "cell_type": "code",
   "execution_count": 4,
   "id": "e0a384c5",
   "metadata": {},
   "outputs": [
    {
     "output_type": "stream",
     "name": "stdout",
     "text": [
      "872393847\nDone in 1.7642974853515625e-05 seconds\n"
     ]
    }
   ],
   "source": [
    "from string import printable\n",
    "timeit(baseAnyTo10, ('efefef', printable[:36]))"
   ]
  },
  {
   "cell_type": "code",
   "execution_count": 5,
   "id": "2e18106e",
   "metadata": {},
   "outputs": [],
   "source": [
    "def highpow(base, num):\n",
    "    expo = 0\n",
    "    while (pow(base, expo) <= num): expo+=1\n",
    "    return expo-1"
   ]
  },
  {
   "cell_type": "code",
   "execution_count": 19,
   "id": "b9a6cd9e",
   "metadata": {},
   "outputs": [
    {
     "output_type": "execute_result",
     "data": {
      "text/plain": [
       "0"
      ]
     },
     "metadata": {},
     "execution_count": 19
    }
   ],
   "source": [
    "highpow(3,1)"
   ]
  },
  {
   "cell_type": "code",
   "execution_count": 7,
   "id": "921da49e",
   "metadata": {},
   "outputs": [],
   "source": [
    "powers = lambda base, expo: [base**n for n in range(expo+1)]"
   ]
  },
  {
   "cell_type": "code",
   "execution_count": 8,
   "id": "8797dcc2",
   "metadata": {},
   "outputs": [
    {
     "output_type": "execute_result",
     "data": {
      "text/plain": [
       "[1, 2, 4]"
      ]
     },
     "metadata": {},
     "execution_count": 8
    }
   ],
   "source": [
    "powers(2, highpow(2,7))"
   ]
  },
  {
   "cell_type": "code",
   "execution_count": 20,
   "id": "37da93ac",
   "metadata": {},
   "outputs": [],
   "source": [
    "def toTri(num: int) -> str:\n",
    "    base = 3\n",
    "    pows ={i:0 for i in range(highpow(base,num),-1,-1)}\n",
    "    chars = [2,1,0]\n",
    "\n",
    "    while num:\n",
    "        for p in pows:\n",
    "            div = base**p\n",
    "            if div <= num:\n",
    "                pows[p] = 1\n",
    "                num -= div\n",
    "    return ''.join(str(i) for i in pows.values())\n",
    "    "
   ]
  },
  {
   "cell_type": "code",
   "execution_count": 22,
   "metadata": {},
   "outputs": [
    {
     "output_type": "execute_result",
     "data": {
      "text/plain": [
       "[4, 3, 2, 1, 0]"
      ]
     },
     "metadata": {},
     "execution_count": 22
    }
   ],
   "source": []
  },
  {
   "cell_type": "code",
   "execution_count": 66,
   "metadata": {},
   "outputs": [],
   "source": [
    "\n",
    "def highmul(num: int, div: int) -> int:\n",
    "    mul = 0\n",
    "    while div*mul <= num:\n",
    "        mul += 1\n",
    "    return mul-1\n"
   ]
  },
  {
   "cell_type": "code",
   "execution_count": 52,
   "metadata": {},
   "outputs": [],
   "source": [
    "def highpowmul(base: int=7, num: int=3) -> int:\n",
    "    # num=7; base=3\n",
    "    temp = []\n",
    "    muls = [base**i for i in reversed(range(highpow(base, num)+1))]\n",
    "    print(muls)\n",
    "    while num >= 0:\n",
    "        for d in muls:\n",
    "            num -= highmul(d, num)\n",
    "            temp.append(d)\n",
    "            print(num)\n",
    "    return temp"
   ]
  },
  {
   "cell_type": "code",
   "execution_count": 49,
   "metadata": {},
   "outputs": [
    {
     "output_type": "execute_result",
     "data": {
      "text/plain": [
       "[3, 1]"
      ]
     },
     "metadata": {},
     "execution_count": 49
    }
   ],
   "source": [
    "[3**i for i in reversed(range(highpow(3, 7)+1))]"
   ]
  },
  {
   "cell_type": "code",
   "execution_count": 59,
   "metadata": {},
   "outputs": [
    {
     "output_type": "stream",
     "name": "stdout",
     "text": [
      "[3, 1]\n"
     ]
    }
   ],
   "source": []
  },
  {
   "cell_type": "code",
   "execution_count": 67,
   "metadata": {},
   "outputs": [
    {
     "output_type": "execute_result",
     "data": {
      "text/plain": [
       "2"
      ]
     },
     "metadata": {},
     "execution_count": 67
    }
   ],
   "source": []
  },
  {
   "cell_type": "code",
   "execution_count": null,
   "metadata": {},
   "outputs": [],
   "source": []
  }
 ],
 "metadata": {
  "kernelspec": {
   "display_name": "Python 3",
   "language": "python",
   "name": "python3"
  },
  "language_info": {
   "codemirror_mode": {
    "name": "ipython",
    "version": 3
   },
   "file_extension": ".py",
   "mimetype": "text/x-python",
   "name": "python",
   "nbconvert_exporter": "python",
   "pygments_lexer": "ipython3",
   "version": "3.8.5"
  }
 },
 "nbformat": 4,
 "nbformat_minor": 5
}