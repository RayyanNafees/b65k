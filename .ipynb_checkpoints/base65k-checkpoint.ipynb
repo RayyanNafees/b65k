{
 "cells": [
  {
   "cell_type": "code",
   "execution_count": 1,
   "id": "b02af30e",
   "metadata": {},
   "outputs": [],
   "source": [
    "def baseAnyTo10(intstr: str, chars: str) -> int:\n",
    "        \n",
    "    if type(chars) == int:\n",
    "        from string import printable\n",
    "        chars = printable[:chars]\n",
    "        \n",
    "    assert all([i in chars for i in intstr]), \\\n",
    "            'The supplied number has characters not in base %i'%base\n",
    "    \n",
    "    base = len(chars)\n",
    "    ind = lambda char: chars.find(char)\n",
    "    dec_encoding = (ind(i)*(base**n) for n,i in enumerate(intstr[::-1]))\n",
    "    return sum(dec_encoding)\n",
    "    "
   ]
  },
  {
   "cell_type": "code",
   "execution_count": 2,
   "id": "3ede5620",
   "metadata": {},
   "outputs": [
    {
     "data": {
      "text/plain": [
       "True"
      ]
     },
     "execution_count": 2,
     "metadata": {},
     "output_type": "execute_result"
    }
   ],
   "source": [
    "baseAnyTo10('efefef', 16) == int('efefef', 16)"
   ]
  },
  {
   "cell_type": "code",
   "execution_count": 3,
   "id": "dc384b52",
   "metadata": {},
   "outputs": [],
   "source": [
    "def timeit(func, args):\n",
    "    import time\n",
    "    start = time.time()\n",
    "    val= func(*args)\n",
    "    stop = time.time()\n",
    "    \n",
    "    print(val)\n",
    "    print('Done in', stop-start, 'seconds')"
   ]
  },
  {
   "cell_type": "code",
   "execution_count": 4,
   "id": "e0a384c5",
   "metadata": {},
   "outputs": [
    {
     "ename": "NameError",
     "evalue": "name 'printable' is not defined",
     "output_type": "error",
     "traceback": [
      "\u001b[0;31m---------------------------------------------------------------------------\u001b[0m",
      "\u001b[0;31mNameError\u001b[0m                                 Traceback (most recent call last)",
      "\u001b[0;32m<ipython-input-4-52282ebc1098>\u001b[0m in \u001b[0;36m<module>\u001b[0;34m\u001b[0m\n\u001b[0;32m----> 1\u001b[0;31m \u001b[0mtimeit\u001b[0m\u001b[0;34m(\u001b[0m\u001b[0mbaseAnyTo10\u001b[0m\u001b[0;34m,\u001b[0m \u001b[0;34m(\u001b[0m\u001b[0;34m'efefef'\u001b[0m\u001b[0;34m,\u001b[0m \u001b[0mprintable\u001b[0m\u001b[0;34m[\u001b[0m\u001b[0;34m:\u001b[0m\u001b[0;36m36\u001b[0m\u001b[0;34m]\u001b[0m\u001b[0;34m)\u001b[0m\u001b[0;34m)\u001b[0m\u001b[0;34m\u001b[0m\u001b[0;34m\u001b[0m\u001b[0m\n\u001b[0m",
      "\u001b[0;31mNameError\u001b[0m: name 'printable' is not defined"
     ]
    }
   ],
   "source": [
    "timeit(baseAnyTo10, ('efefef', printable[:36]))"
   ]
  },
  {
   "cell_type": "code",
   "execution_count": 5,
   "id": "2e18106e",
   "metadata": {},
   "outputs": [],
   "source": [
    "def highpow(base, num):\n",
    "    expo = 0\n",
    "    while (pow(base, expo) <= num): expo+=1\n",
    "    return expo-1"
   ]
  },
  {
   "cell_type": "code",
   "execution_count": 6,
   "id": "b9a6cd9e",
   "metadata": {},
   "outputs": [
    {
     "data": {
      "text/plain": [
       "0"
      ]
     },
     "execution_count": 6,
     "metadata": {},
     "output_type": "execute_result"
    }
   ],
   "source": [
    "highpow(3,1)"
   ]
  },
  {
   "cell_type": "code",
   "execution_count": 7,
   "id": "921da49e",
   "metadata": {},
   "outputs": [],
   "source": [
    "powers = lambda base, expo: [base**n for n in range(expo+1)]"
   ]
  },
  {
   "cell_type": "code",
   "execution_count": 8,
   "id": "8797dcc2",
   "metadata": {},
   "outputs": [
    {
     "data": {
      "text/plain": [
       "[1, 2, 4]"
      ]
     },
     "execution_count": 8,
     "metadata": {},
     "output_type": "execute_result"
    }
   ],
   "source": [
    "powers(2, highpow(2,7))"
   ]
  },
  {
   "cell_type": "code",
   "execution_count": null,
   "id": "37da93ac",
   "metadata": {},
   "outputs": [],
   "source": []
  }
 ],
 "metadata": {
  "kernelspec": {
   "display_name": "Python 3",
   "language": "python",
   "name": "python3"
  },
  "language_info": {
   "codemirror_mode": {
    "name": "ipython",
    "version": 3
   },
   "file_extension": ".py",
   "mimetype": "text/x-python",
   "name": "python",
   "nbconvert_exporter": "python",
   "pygments_lexer": "ipython3",
   "version": "3.8.5"
  }
 },
 "nbformat": 4,
 "nbformat_minor": 5
}
